{
 "cells": [
  {
   "cell_type": "markdown",
   "id": "8d66f672-48f6-42de-8007-552f00432988",
   "metadata": {},
   "source": [
    "### Intro to data science with pokemon \n",
    "***"
   ]
  },
  {
   "cell_type": "markdown",
   "id": "39251239-296b-4d31-9265-e0cd27c9f3d1",
   "metadata": {},
   "source": [
    "Arrays"
   ]
  },
  {
   "cell_type": "code",
   "execution_count": 7,
   "id": "f266fcd6-7076-479e-b91a-be37865d9b18",
   "metadata": {},
   "outputs": [],
   "source": [
    "food = ['ham', 'cheese', 'bread', 'mayo', 'lettuce', 'tomatoes']"
   ]
  },
  {
   "cell_type": "code",
   "execution_count": 8,
   "id": "f8f05326-ce73-42a7-ad87-bbd1a2527e41",
   "metadata": {},
   "outputs": [
    {
     "name": "stdout",
     "output_type": "stream",
     "text": [
      "['ham', 'cheese', 'bread', 'mayo', 'lettuce', 'tomatoes']\n"
     ]
    }
   ],
   "source": [
    "print(food)"
   ]
  },
  {
   "cell_type": "code",
   "execution_count": 9,
   "id": "8d87f9d6-78af-4d96-ad23-27ab3950bb96",
   "metadata": {},
   "outputs": [
    {
     "name": "stdout",
     "output_type": "stream",
     "text": [
      "ham\n"
     ]
    }
   ],
   "source": [
    "print(food[0])"
   ]
  },
  {
   "cell_type": "code",
   "execution_count": 10,
   "id": "9b359e62-bc3e-47ab-85ae-b21b67b34351",
   "metadata": {},
   "outputs": [
    {
     "name": "stdout",
     "output_type": "stream",
     "text": [
      "tomatoes\n"
     ]
    }
   ],
   "source": [
    "print(food[5])"
   ]
  },
  {
   "cell_type": "code",
   "execution_count": 11,
   "id": "e751d6fe-fcf7-46e2-ab0d-bf25a1f4a36b",
   "metadata": {},
   "outputs": [
    {
     "name": "stdout",
     "output_type": "stream",
     "text": [
      "lettuce\n"
     ]
    }
   ],
   "source": [
    "print(food[4])"
   ]
  },
  {
   "cell_type": "code",
   "execution_count": 12,
   "id": "2911d015-cd23-4d38-a490-cd712d3b94b2",
   "metadata": {},
   "outputs": [],
   "source": [
    "sliced_food = food[0:2]"
   ]
  },
  {
   "cell_type": "code",
   "execution_count": 13,
   "id": "a0dce60a-cd3a-405a-9588-1836c05e7366",
   "metadata": {},
   "outputs": [
    {
     "name": "stdout",
     "output_type": "stream",
     "text": [
      "['ham', 'cheese']\n"
     ]
    }
   ],
   "source": [
    "print(sliced_food)"
   ]
  },
  {
   "cell_type": "markdown",
   "id": "5fa9ad94-1d18-44a8-a330-7a0f01862bb3",
   "metadata": {},
   "source": [
    "### Import Libaries\n",
    "***"
   ]
  },
  {
   "cell_type": "code",
   "execution_count": 14,
   "id": "c97f7727-7a46-4fdc-be5b-0429a257cb14",
   "metadata": {},
   "outputs": [],
   "source": [
    "import pandas as pd\n",
    "import numpy as py\n",
    "import seaborn as sb"
   ]
  },
  {
   "cell_type": "code",
   "execution_count": 15,
   "id": "53d85006-5f10-486f-8495-9aa33657ec9e",
   "metadata": {},
   "outputs": [
    {
     "name": "stdout",
     "output_type": "stream",
     "text": [
      "pandas version2.1.3\n",
      "numpy version1.26.2\n",
      "seaborn version0.13.0\n"
     ]
    }
   ],
   "source": [
    "print(\"pandas version\" + pd.__version__)\n",
    "print(\"numpy version\" + py.__version__)\n",
    "print(\"seaborn version\" + sb.__version__)"
   ]
  },
  {
   "cell_type": "markdown",
   "id": "40d773d3-35f5-4810-8339-8d402d87c6a7",
   "metadata": {},
   "source": [
    "### loading data\n",
    "***"
   ]
  },
  {
   "cell_type": "code",
   "execution_count": 16,
   "id": "9b8b446a-cd0e-43f8-8fa2-f7c29dea2e96",
   "metadata": {},
   "outputs": [],
   "source": [
    "df = pd.read_csv(\"pokemon.csv\")"
   ]
  },
  {
   "cell_type": "markdown",
   "id": "6560eccc-3a8d-4a89-aa9a-961bd4d1d582",
   "metadata": {},
   "source": [
    "### Displaying Full Data frames\n",
    "***"
   ]
  },
  {
   "cell_type": "code",
   "execution_count": 20,
   "id": "a56a4ecf-4806-4513-a97d-7adffaa52bf3",
   "metadata": {},
   "outputs": [],
   "source": [
    "pd.set_option('display.max_rows', 20)"
   ]
  },
  {
   "cell_type": "code",
   "execution_count": 21,
   "id": "e8f91172-69c2-49ac-897d-dd678ff03c2c",
   "metadata": {},
   "outputs": [
    {
     "data": {
      "text/html": [
       "<div>\n",
       "<style scoped>\n",
       "    .dataframe tbody tr th:only-of-type {\n",
       "        vertical-align: middle;\n",
       "    }\n",
       "\n",
       "    .dataframe tbody tr th {\n",
       "        vertical-align: top;\n",
       "    }\n",
       "\n",
       "    .dataframe thead th {\n",
       "        text-align: right;\n",
       "    }\n",
       "</style>\n",
       "<table border=\"1\" class=\"dataframe\">\n",
       "  <thead>\n",
       "    <tr style=\"text-align: right;\">\n",
       "      <th></th>\n",
       "      <th>Per</th>\n",
       "      <th>Nat</th>\n",
       "      <th>Pokemon</th>\n",
       "      <th>HP</th>\n",
       "      <th>Atk</th>\n",
       "      <th>Def</th>\n",
       "      <th>SpA</th>\n",
       "      <th>SpD</th>\n",
       "      <th>Spe</th>\n",
       "      <th>Total</th>\n",
       "      <th>...</th>\n",
       "      <th>Catch</th>\n",
       "      <th>EXP</th>\n",
       "      <th>Evolve</th>\n",
       "      <th>Per.1</th>\n",
       "      <th>Nat.1</th>\n",
       "      <th>Joh</th>\n",
       "      <th>Hoe</th>\n",
       "      <th>Sin</th>\n",
       "      <th>Un</th>\n",
       "      <th>Pokemon.1</th>\n",
       "    </tr>\n",
       "  </thead>\n",
       "  <tbody>\n",
       "    <tr>\n",
       "      <th>0</th>\n",
       "      <td>1.0</td>\n",
       "      <td>1.0</td>\n",
       "      <td>Bulbasaur</td>\n",
       "      <td>45</td>\n",
       "      <td>49</td>\n",
       "      <td>49</td>\n",
       "      <td>65</td>\n",
       "      <td>65</td>\n",
       "      <td>45</td>\n",
       "      <td>318</td>\n",
       "      <td>...</td>\n",
       "      <td>45</td>\n",
       "      <td>1059860</td>\n",
       "      <td>NaN</td>\n",
       "      <td>1.0</td>\n",
       "      <td>1.0</td>\n",
       "      <td>226.0</td>\n",
       "      <td>NaN</td>\n",
       "      <td>NaN</td>\n",
       "      <td>NaN</td>\n",
       "      <td>Bulbasaur</td>\n",
       "    </tr>\n",
       "    <tr>\n",
       "      <th>1</th>\n",
       "      <td>2.0</td>\n",
       "      <td>2.0</td>\n",
       "      <td>Ivysaur</td>\n",
       "      <td>60</td>\n",
       "      <td>62</td>\n",
       "      <td>63</td>\n",
       "      <td>80</td>\n",
       "      <td>80</td>\n",
       "      <td>60</td>\n",
       "      <td>405</td>\n",
       "      <td>...</td>\n",
       "      <td>45</td>\n",
       "      <td>1059860</td>\n",
       "      <td>Lv. 16</td>\n",
       "      <td>2.0</td>\n",
       "      <td>2.0</td>\n",
       "      <td>227.0</td>\n",
       "      <td>NaN</td>\n",
       "      <td>NaN</td>\n",
       "      <td>NaN</td>\n",
       "      <td>Ivysaur</td>\n",
       "    </tr>\n",
       "    <tr>\n",
       "      <th>2</th>\n",
       "      <td>3.0</td>\n",
       "      <td>3.0</td>\n",
       "      <td>Venusaur</td>\n",
       "      <td>80</td>\n",
       "      <td>82</td>\n",
       "      <td>83</td>\n",
       "      <td>100</td>\n",
       "      <td>100</td>\n",
       "      <td>80</td>\n",
       "      <td>525</td>\n",
       "      <td>...</td>\n",
       "      <td>45</td>\n",
       "      <td>1059860</td>\n",
       "      <td>Lv. 32</td>\n",
       "      <td>3.0</td>\n",
       "      <td>3.0</td>\n",
       "      <td>228.0</td>\n",
       "      <td>NaN</td>\n",
       "      <td>NaN</td>\n",
       "      <td>NaN</td>\n",
       "      <td>Venusaur</td>\n",
       "    </tr>\n",
       "    <tr>\n",
       "      <th>3</th>\n",
       "      <td>4.0</td>\n",
       "      <td>4.0</td>\n",
       "      <td>Charmander</td>\n",
       "      <td>39</td>\n",
       "      <td>52</td>\n",
       "      <td>43</td>\n",
       "      <td>60</td>\n",
       "      <td>50</td>\n",
       "      <td>65</td>\n",
       "      <td>309</td>\n",
       "      <td>...</td>\n",
       "      <td>45</td>\n",
       "      <td>1059860</td>\n",
       "      <td>NaN</td>\n",
       "      <td>4.0</td>\n",
       "      <td>4.0</td>\n",
       "      <td>229.0</td>\n",
       "      <td>NaN</td>\n",
       "      <td>NaN</td>\n",
       "      <td>NaN</td>\n",
       "      <td>Charmander</td>\n",
       "    </tr>\n",
       "    <tr>\n",
       "      <th>4</th>\n",
       "      <td>5.0</td>\n",
       "      <td>5.0</td>\n",
       "      <td>Charmeleon</td>\n",
       "      <td>58</td>\n",
       "      <td>64</td>\n",
       "      <td>58</td>\n",
       "      <td>80</td>\n",
       "      <td>65</td>\n",
       "      <td>80</td>\n",
       "      <td>405</td>\n",
       "      <td>...</td>\n",
       "      <td>45</td>\n",
       "      <td>1059860</td>\n",
       "      <td>Lv. 16</td>\n",
       "      <td>5.0</td>\n",
       "      <td>5.0</td>\n",
       "      <td>230.0</td>\n",
       "      <td>NaN</td>\n",
       "      <td>NaN</td>\n",
       "      <td>NaN</td>\n",
       "      <td>Charmeleon</td>\n",
       "    </tr>\n",
       "    <tr>\n",
       "      <th>...</th>\n",
       "      <td>...</td>\n",
       "      <td>...</td>\n",
       "      <td>...</td>\n",
       "      <td>...</td>\n",
       "      <td>...</td>\n",
       "      <td>...</td>\n",
       "      <td>...</td>\n",
       "      <td>...</td>\n",
       "      <td>...</td>\n",
       "      <td>...</td>\n",
       "      <td>...</td>\n",
       "      <td>...</td>\n",
       "      <td>...</td>\n",
       "      <td>...</td>\n",
       "      <td>...</td>\n",
       "      <td>...</td>\n",
       "      <td>...</td>\n",
       "      <td>...</td>\n",
       "      <td>...</td>\n",
       "      <td>...</td>\n",
       "      <td>...</td>\n",
       "    </tr>\n",
       "    <tr>\n",
       "      <th>95</th>\n",
       "      <td>105.0</td>\n",
       "      <td>96.0</td>\n",
       "      <td>Drowzee</td>\n",
       "      <td>60</td>\n",
       "      <td>48</td>\n",
       "      <td>45</td>\n",
       "      <td>43</td>\n",
       "      <td>90</td>\n",
       "      <td>42</td>\n",
       "      <td>328</td>\n",
       "      <td>...</td>\n",
       "      <td>190</td>\n",
       "      <td>1000000</td>\n",
       "      <td>NaN</td>\n",
       "      <td>105.0</td>\n",
       "      <td>96.0</td>\n",
       "      <td>87.0</td>\n",
       "      <td>NaN</td>\n",
       "      <td>NaN</td>\n",
       "      <td>NaN</td>\n",
       "      <td>Drowzee</td>\n",
       "    </tr>\n",
       "    <tr>\n",
       "      <th>96</th>\n",
       "      <td>106.0</td>\n",
       "      <td>97.0</td>\n",
       "      <td>Hypno</td>\n",
       "      <td>85</td>\n",
       "      <td>73</td>\n",
       "      <td>70</td>\n",
       "      <td>73</td>\n",
       "      <td>115</td>\n",
       "      <td>67</td>\n",
       "      <td>483</td>\n",
       "      <td>...</td>\n",
       "      <td>75</td>\n",
       "      <td>1000000</td>\n",
       "      <td>Lv. 26</td>\n",
       "      <td>106.0</td>\n",
       "      <td>97.0</td>\n",
       "      <td>88.0</td>\n",
       "      <td>NaN</td>\n",
       "      <td>NaN</td>\n",
       "      <td>NaN</td>\n",
       "      <td>Hypno</td>\n",
       "    </tr>\n",
       "    <tr>\n",
       "      <th>97</th>\n",
       "      <td>107.0</td>\n",
       "      <td>98.0</td>\n",
       "      <td>Krabby</td>\n",
       "      <td>30</td>\n",
       "      <td>105</td>\n",
       "      <td>90</td>\n",
       "      <td>25</td>\n",
       "      <td>25</td>\n",
       "      <td>50</td>\n",
       "      <td>325</td>\n",
       "      <td>...</td>\n",
       "      <td>225</td>\n",
       "      <td>1000000</td>\n",
       "      <td>NaN</td>\n",
       "      <td>107.0</td>\n",
       "      <td>98.0</td>\n",
       "      <td>164.0</td>\n",
       "      <td>NaN</td>\n",
       "      <td>NaN</td>\n",
       "      <td>NaN</td>\n",
       "      <td>Krabby</td>\n",
       "    </tr>\n",
       "    <tr>\n",
       "      <th>98</th>\n",
       "      <td>108.0</td>\n",
       "      <td>99.0</td>\n",
       "      <td>Kingler</td>\n",
       "      <td>55</td>\n",
       "      <td>130</td>\n",
       "      <td>115</td>\n",
       "      <td>50</td>\n",
       "      <td>50</td>\n",
       "      <td>75</td>\n",
       "      <td>475</td>\n",
       "      <td>...</td>\n",
       "      <td>60</td>\n",
       "      <td>1000000</td>\n",
       "      <td>Lv. 28</td>\n",
       "      <td>108.0</td>\n",
       "      <td>99.0</td>\n",
       "      <td>165.0</td>\n",
       "      <td>NaN</td>\n",
       "      <td>NaN</td>\n",
       "      <td>NaN</td>\n",
       "      <td>Kingler</td>\n",
       "    </tr>\n",
       "    <tr>\n",
       "      <th>99</th>\n",
       "      <td>109.0</td>\n",
       "      <td>100.0</td>\n",
       "      <td>Voltorb</td>\n",
       "      <td>40</td>\n",
       "      <td>30</td>\n",
       "      <td>50</td>\n",
       "      <td>55</td>\n",
       "      <td>55</td>\n",
       "      <td>100</td>\n",
       "      <td>330</td>\n",
       "      <td>...</td>\n",
       "      <td>190</td>\n",
       "      <td>1000000</td>\n",
       "      <td>NaN</td>\n",
       "      <td>109.0</td>\n",
       "      <td>100.0</td>\n",
       "      <td>120.0</td>\n",
       "      <td>84.0</td>\n",
       "      <td>NaN</td>\n",
       "      <td>NaN</td>\n",
       "      <td>Voltorb</td>\n",
       "    </tr>\n",
       "  </tbody>\n",
       "</table>\n",
       "<p>100 rows × 35 columns</p>\n",
       "</div>"
      ],
      "text/plain": [
       "      Per    Nat     Pokemon  HP  Atk  Def  SpA  SpD  Spe  Total  ... Catch  \\\n",
       "0     1.0    1.0   Bulbasaur  45   49   49   65   65   45    318  ...    45   \n",
       "1     2.0    2.0     Ivysaur  60   62   63   80   80   60    405  ...    45   \n",
       "2     3.0    3.0    Venusaur  80   82   83  100  100   80    525  ...    45   \n",
       "3     4.0    4.0  Charmander  39   52   43   60   50   65    309  ...    45   \n",
       "4     5.0    5.0  Charmeleon  58   64   58   80   65   80    405  ...    45   \n",
       "..    ...    ...         ...  ..  ...  ...  ...  ...  ...    ...  ...   ...   \n",
       "95  105.0   96.0     Drowzee  60   48   45   43   90   42    328  ...   190   \n",
       "96  106.0   97.0       Hypno  85   73   70   73  115   67    483  ...    75   \n",
       "97  107.0   98.0      Krabby  30  105   90   25   25   50    325  ...   225   \n",
       "98  108.0   99.0     Kingler  55  130  115   50   50   75    475  ...    60   \n",
       "99  109.0  100.0     Voltorb  40   30   50   55   55  100    330  ...   190   \n",
       "\n",
       "        EXP  Evolve  Per.1  Nat.1    Joh   Hoe  Sin  Un   Pokemon.1  \n",
       "0   1059860     NaN    1.0    1.0  226.0   NaN  NaN NaN   Bulbasaur  \n",
       "1   1059860  Lv. 16    2.0    2.0  227.0   NaN  NaN NaN     Ivysaur  \n",
       "2   1059860  Lv. 32    3.0    3.0  228.0   NaN  NaN NaN    Venusaur  \n",
       "3   1059860     NaN    4.0    4.0  229.0   NaN  NaN NaN  Charmander  \n",
       "4   1059860  Lv. 16    5.0    5.0  230.0   NaN  NaN NaN  Charmeleon  \n",
       "..      ...     ...    ...    ...    ...   ...  ...  ..         ...  \n",
       "95  1000000     NaN  105.0   96.0   87.0   NaN  NaN NaN     Drowzee  \n",
       "96  1000000  Lv. 26  106.0   97.0   88.0   NaN  NaN NaN       Hypno  \n",
       "97  1000000     NaN  107.0   98.0  164.0   NaN  NaN NaN      Krabby  \n",
       "98  1000000  Lv. 28  108.0   99.0  165.0   NaN  NaN NaN     Kingler  \n",
       "99  1000000     NaN  109.0  100.0  120.0  84.0  NaN NaN     Voltorb  \n",
       "\n",
       "[100 rows x 35 columns]"
      ]
     },
     "execution_count": 21,
     "metadata": {},
     "output_type": "execute_result"
    }
   ],
   "source": [
    "df.head(100)"
   ]
  },
  {
   "cell_type": "markdown",
   "id": "5a3af181-125a-4c1f-a8a6-d03a8b8e6574",
   "metadata": {},
   "source": [
    "### Accquiring columns\n",
    "***"
   ]
  },
  {
   "cell_type": "code",
   "execution_count": 22,
   "id": "cd5ac85b-93b4-4a77-9578-eb106e9f0feb",
   "metadata": {},
   "outputs": [
    {
     "data": {
      "text/plain": [
       "0         Bulbasaur\n",
       "1           Ivysaur\n",
       "2          Venusaur\n",
       "3        Charmander\n",
       "4        Charmeleon\n",
       "           ...     \n",
       "658          Kyurem\n",
       "659          Keldeo\n",
       "660    Meloetta (A)\n",
       "661    Meloetta (P)\n",
       "662        Genesect\n",
       "Name: Pokemon, Length: 663, dtype: object"
      ]
     },
     "execution_count": 22,
     "metadata": {},
     "output_type": "execute_result"
    }
   ],
   "source": [
    "df.Pokemon"
   ]
  },
  {
   "cell_type": "markdown",
   "id": "45ef8c83-7abc-4aa6-847a-ecbc384cc87c",
   "metadata": {},
   "source": [
    "### Accessing multiple columns\n",
    "***"
   ]
  },
  {
   "cell_type": "markdown",
   "id": "30da0606-1108-4919-9780-f6b111cb375f",
   "metadata": {},
   "source": [
    "You can access multiple columns using a variable."
   ]
  },
  {
   "cell_type": "code",
   "execution_count": 24,
   "id": "b2630dff-1db8-4de7-8b3e-f655f5ded12a",
   "metadata": {},
   "outputs": [
    {
     "ename": "NameError",
     "evalue": "name 'pokemon_Atk_Hp' is not defined",
     "output_type": "error",
     "traceback": [
      "\u001b[0;31m---------------------------------------------------------------------------\u001b[0m",
      "\u001b[0;31mNameError\u001b[0m                                 Traceback (most recent call last)",
      "Cell \u001b[0;32mIn[24], line 1\u001b[0m\n\u001b[0;32m----> 1\u001b[0m \u001b[43mpokemon_Atk_Hp\u001b[49m \u001b[38;5;241m+\u001b[39m df[[\u001b[38;5;124m'\u001b[39m\u001b[38;5;124mPokemon\u001b[39m\u001b[38;5;124m'\u001b[39m, \u001b[38;5;124m'\u001b[39m\u001b[38;5;124mHP\u001b[39m\u001b[38;5;124m'\u001b[39m , \u001b[38;5;124m'\u001b[39m\u001b[38;5;124mATK\u001b[39m\u001b[38;5;124m'\u001b[39m]]\n",
      "\u001b[0;31mNameError\u001b[0m: name 'pokemon_Atk_Hp' is not defined"
     ]
    }
   ],
   "source": [
    "pokemon_Atk_Hp + df[['Pokemon', 'HP' , 'ATK']]"
   ]
  },
  {
   "cell_type": "markdown",
   "id": "2bd20f37-a75d-4fb8-8b95-3ce25671d1af",
   "metadata": {},
   "source": [
    "### Slicing rows and columns\n",
    "***"
   ]
  },
  {
   "cell_type": "code",
   "execution_count": 25,
   "id": "19f13f37-8ebb-430f-81dd-5b7b6fe46340",
   "metadata": {},
   "outputs": [
    {
     "ename": "NameError",
     "evalue": "name 'rows_zero_to_ten' is not defined",
     "output_type": "error",
     "traceback": [
      "\u001b[0;31m---------------------------------------------------------------------------\u001b[0m",
      "\u001b[0;31mNameError\u001b[0m                                 Traceback (most recent call last)",
      "Cell \u001b[0;32mIn[25], line 1\u001b[0m\n\u001b[0;32m----> 1\u001b[0m \u001b[43mrows_zero_to_ten\u001b[49m\n",
      "\u001b[0;31mNameError\u001b[0m: name 'rows_zero_to_ten' is not defined"
     ]
    }
   ],
   "source": [
    "rows_zero_to_ten"
   ]
  },
  {
   "cell_type": "code",
   "execution_count": null,
   "id": "d2b952d6-daa9-43af-a29d-610b149c60fb",
   "metadata": {},
   "outputs": [],
   "source": []
  },
  {
   "cell_type": "markdown",
   "id": "e99f8bca-b832-41b4-aaf2-e162ca702f97",
   "metadata": {},
   "source": [
    "### Useful PANDAS Method\n",
    "***"
   ]
  },
  {
   "cell_type": "code",
   "execution_count": null,
   "id": "f8fb9bfa-33ff-4a09-a793-2a9cdc4b3e81",
   "metadata": {},
   "outputs": [],
   "source": []
  },
  {
   "cell_type": "markdown",
   "id": "35c2ea3e-90af-465d-9f4f-1857e5a19267",
   "metadata": {},
   "source": [
    "### filtering data\n",
    "***"
   ]
  },
  {
   "cell_type": "code",
   "execution_count": null,
   "id": "054fa44e-0084-4536-9a41-a62c5941c99c",
   "metadata": {},
   "outputs": [],
   "source": [
    "special_attack_70 = df.df["
   ]
  }
 ],
 "metadata": {
  "kernelspec": {
   "display_name": "Python 3 (ipykernel)",
   "language": "python",
   "name": "python3"
  },
  "language_info": {
   "codemirror_mode": {
    "name": "ipython",
    "version": 3
   },
   "file_extension": ".py",
   "mimetype": "text/x-python",
   "name": "python",
   "nbconvert_exporter": "python",
   "pygments_lexer": "ipython3",
   "version": "3.10.13"
  }
 },
 "nbformat": 4,
 "nbformat_minor": 5
}
